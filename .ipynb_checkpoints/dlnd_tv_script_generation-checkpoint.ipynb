{
 "cells": [
  {
   "cell_type": "markdown",
   "metadata": {
    "deletable": true,
    "editable": true
   },
   "source": [
    "# TV Script Generation\n",
    "In this project, you'll generate your own [Simpsons](https://en.wikipedia.org/wiki/The_Simpsons) TV scripts using RNNs.  You'll be using part of the [Simpsons dataset](https://www.kaggle.com/wcukierski/the-simpsons-by-the-data) of scripts from 27 seasons.  The Neural Network you'll build will generate a new TV script for a scene at [Moe's Tavern](https://simpsonswiki.com/wiki/Moe's_Tavern).\n",
    "## Get the Data\n",
    "The data is already provided for you.  You'll be using a subset of the original dataset.  It consists of only the scenes in Moe's Tavern.  This doesn't include other versions of the tavern, like \"Moe's Cavern\", \"Flaming Moe's\", \"Uncle Moe's Family Feed-Bag\", etc.."
   ]
  },
  {
   "cell_type": "code",
   "execution_count": 1,
   "metadata": {
    "collapsed": false,
    "deletable": true,
    "editable": true
   },
   "outputs": [],
   "source": [
    "\"\"\"\n",
    "DON'T MODIFY ANYTHING IN THIS CELL\n",
    "\"\"\"\n",
    "import helper\n",
    "\n",
    "data_dir = './data/simpsons/moes_tavern_lines.txt'\n",
    "text = helper.load_data(data_dir)\n",
    "# Ignore notice, since we don't use it for analysing the data\n",
    "text = text[81:]"
   ]
  },
  {
   "cell_type": "markdown",
   "metadata": {
    "deletable": true,
    "editable": true
   },
   "source": [
    "## Explore the Data\n",
    "Play around with `view_sentence_range` to view different parts of the data."
   ]
  },
  {
   "cell_type": "code",
   "execution_count": 2,
   "metadata": {
    "collapsed": false,
    "deletable": true,
    "editable": true
   },
   "outputs": [
    {
     "name": "stdout",
     "output_type": "stream",
     "text": [
      "Dataset Stats\n",
      "Roughly the number of unique words: 11492\n",
      "Number of scenes: 262\n",
      "Average number of sentences in each scene: 15.248091603053435\n",
      "Number of lines: 4257\n",
      "Average number of words in each line: 11.50434578341555\n",
      "\n",
      "The sentences 0 to 10:\n",
      "Moe_Szyslak: (INTO PHONE) Moe's Tavern. Where the elite meet to drink.\n",
      "Bart_Simpson: Eh, yeah, hello, is Mike there? Last name, Rotch.\n",
      "Moe_Szyslak: (INTO PHONE) Hold on, I'll check. (TO BARFLIES) Mike Rotch. Mike Rotch. Hey, has anybody seen Mike Rotch, lately?\n",
      "Moe_Szyslak: (INTO PHONE) Listen you little puke. One of these days I'm gonna catch you, and I'm gonna carve my name on your back with an ice pick.\n",
      "Moe_Szyslak: What's the matter Homer? You're not your normal effervescent self.\n",
      "Homer_Simpson: I got my problems, Moe. Give me another one.\n",
      "Moe_Szyslak: Homer, hey, you should not drink to forget your problems.\n",
      "Barney_Gumble: Yeah, you should only drink to enhance your social skills.\n",
      "\n",
      "\n"
     ]
    }
   ],
   "source": [
    "view_sentence_range = (0, 10)\n",
    "\n",
    "\"\"\"\n",
    "DON'T MODIFY ANYTHING IN THIS CELL\n",
    "\"\"\"\n",
    "import numpy as np\n",
    "\n",
    "print('Dataset Stats')\n",
    "print('Roughly the number of unique words: {}'.format(len({word: None for word in text.split()})))\n",
    "scenes = text.split('\\n\\n')\n",
    "print('Number of scenes: {}'.format(len(scenes)))\n",
    "sentence_count_scene = [scene.count('\\n') for scene in scenes]\n",
    "print('Average number of sentences in each scene: {}'.format(np.average(sentence_count_scene)))\n",
    "\n",
    "sentences = [sentence for scene in scenes for sentence in scene.split('\\n')]\n",
    "print('Number of lines: {}'.format(len(sentences)))\n",
    "word_count_sentence = [len(sentence.split()) for sentence in sentences]\n",
    "print('Average number of words in each line: {}'.format(np.average(word_count_sentence)))\n",
    "\n",
    "print()\n",
    "print('The sentences {} to {}:'.format(*view_sentence_range))\n",
    "print('\\n'.join(text.split('\\n')[view_sentence_range[0]:view_sentence_range[1]]))"
   ]
  },
  {
   "cell_type": "markdown",
   "metadata": {
    "deletable": true,
    "editable": true
   },
   "source": [
    "## Implement Preprocessing Functions\n",
    "The first thing to do to any dataset is preprocessing.  Implement the following preprocessing functions below:\n",
    "- Lookup Table\n",
    "- Tokenize Punctuation\n",
    "\n",
    "### Lookup Table\n",
    "To create a word embedding, you first need to transform the words to ids.  In this function, create two dictionaries:\n",
    "- Dictionary to go from the words to an id, we'll call `vocab_to_int`\n",
    "- Dictionary to go from the id to word, we'll call `int_to_vocab`\n",
    "\n",
    "Return these dictionaries in the following tuple `(vocab_to_int, int_to_vocab)`"
   ]
  },
  {
   "cell_type": "code",
   "execution_count": 3,
   "metadata": {
    "collapsed": false,
    "deletable": true,
    "editable": true
   },
   "outputs": [
    {
     "name": "stdout",
     "output_type": "stream",
     "text": [
      "Tests Passed\n"
     ]
    }
   ],
   "source": [
    "import numpy as np\n",
    "import problem_unittests as tests\n",
    "\n",
    "def create_lookup_tables(text):\n",
    "    \"\"\"\n",
    "    Create lookup tables for vocabulary\n",
    "    :param text: The text of tv scripts split into words\n",
    "    :return: A tuple of dicts (vocab_to_int, int_to_vocab)\n",
    "    \"\"\"\n",
    "    # TODO: Implement Function\n",
    "    vocab = set(text)\n",
    "    vocab_to_int = {word: i for i, word in enumerate(vocab)}\n",
    "    int_to_vocab = {i: word for word, i in vocab_to_int.items()}\n",
    "    return vocab_to_int, int_to_vocab\n",
    "\n",
    "\n",
    "\"\"\"\n",
    "DON'T MODIFY ANYTHING IN THIS CELL THAT IS BELOW THIS LINE\n",
    "\"\"\"\n",
    "tests.test_create_lookup_tables(create_lookup_tables)"
   ]
  },
  {
   "cell_type": "markdown",
   "metadata": {
    "deletable": true,
    "editable": true
   },
   "source": [
    "### Tokenize Punctuation\n",
    "We'll be splitting the script into a word array using spaces as delimiters.  However, punctuations like periods and exclamation marks make it hard for the neural network to distinguish between the word \"bye\" and \"bye!\".\n",
    "\n",
    "Implement the function `token_lookup` to return a dict that will be used to tokenize symbols like \"!\" into \"||Exclamation_Mark||\".  Create a dictionary for the following symbols where the symbol is the key and value is the token:\n",
    "- Period ( . )\n",
    "- Comma ( , )\n",
    "- Quotation Mark ( \" )\n",
    "- Semicolon ( ; )\n",
    "- Exclamation mark ( ! )\n",
    "- Question mark ( ? )\n",
    "- Left Parentheses ( ( )\n",
    "- Right Parentheses ( ) )\n",
    "- Dash ( -- )\n",
    "- Return ( \\n )\n",
    "\n",
    "This dictionary will be used to token the symbols and add the delimiter (space) around it.  This separates the symbols as it's own word, making it easier for the neural network to predict on the next word. Make sure you don't use a token that could be confused as a word. Instead of using the token \"dash\", try using something like \"||dash||\"."
   ]
  },
  {
   "cell_type": "code",
   "execution_count": 4,
   "metadata": {
    "collapsed": false,
    "deletable": true,
    "editable": true
   },
   "outputs": [
    {
     "name": "stdout",
     "output_type": "stream",
     "text": [
      "Tests Passed\n"
     ]
    }
   ],
   "source": [
    "def token_lookup():\n",
    "    \"\"\"\n",
    "    Generate a dict to turn punctuation into a token.\n",
    "    :return: Tokenize dictionary where the key is the punctuation and the value is the token\n",
    "    \"\"\"\n",
    "    # TODO: Implement Function\n",
    "    d = {}\n",
    "    d[\".\"] = \"||Period||\"\n",
    "    d[\",\"] = \"||Comma||\"\n",
    "    d[\"\\\"\"] = \"||Quotation_Mark||\"\n",
    "    d[\";\"] = \"||Semicolon||\"\n",
    "    d[\"!\"] = \"||Exclamation_Mark||\"\n",
    "    d[\"?\"] = \"||Question_Mark||\"\n",
    "    d[\"(\"] = \"||Left_Parentheses||\"\n",
    "    d[\")\"] = \"||Right_Parentheses||\"\n",
    "    d[\"--\"] = \"||Dash||\"\n",
    "    d[\"\\n\"] = \"||Return||\"\n",
    "    return d\n",
    "\n",
    "\n",
    "\"\"\"\n",
    "DON'T MODIFY ANYTHING IN THIS CELL THAT IS BELOW THIS LINE\n",
    "\"\"\"\n",
    "tests.test_tokenize(token_lookup)"
   ]
  },
  {
   "cell_type": "markdown",
   "metadata": {
    "deletable": true,
    "editable": true
   },
   "source": [
    "## Preprocess all the data and save it\n",
    "Running the code cell below will preprocess all the data and save it to file."
   ]
  },
  {
   "cell_type": "code",
   "execution_count": 5,
   "metadata": {
    "collapsed": false,
    "deletable": true,
    "editable": true
   },
   "outputs": [],
   "source": [
    "\"\"\"\n",
    "DON'T MODIFY ANYTHING IN THIS CELL\n",
    "\"\"\"\n",
    "# Preprocess Training, Validation, and Testing Data\n",
    "helper.preprocess_and_save_data(data_dir, token_lookup, create_lookup_tables)"
   ]
  },
  {
   "cell_type": "markdown",
   "metadata": {
    "deletable": true,
    "editable": true
   },
   "source": [
    "# Check Point\n",
    "This is your first checkpoint. If you ever decide to come back to this notebook or have to restart the notebook, you can start from here. The preprocessed data has been saved to disk."
   ]
  },
  {
   "cell_type": "code",
   "execution_count": 6,
   "metadata": {
    "collapsed": false,
    "deletable": true,
    "editable": true
   },
   "outputs": [],
   "source": [
    "\"\"\"\n",
    "DON'T MODIFY ANYTHING IN THIS CELL\n",
    "\"\"\"\n",
    "import helper\n",
    "import numpy as np\n",
    "import problem_unittests as tests\n",
    "\n",
    "int_text, vocab_to_int, int_to_vocab, token_dict = helper.load_preprocess()"
   ]
  },
  {
   "cell_type": "markdown",
   "metadata": {
    "deletable": true,
    "editable": true
   },
   "source": [
    "## Build the Neural Network\n",
    "You'll build the components necessary to build a RNN by implementing the following functions below:\n",
    "- get_inputs\n",
    "- get_init_cell\n",
    "- get_embed\n",
    "- build_rnn\n",
    "- build_nn\n",
    "- get_batches\n",
    "\n",
    "### Check the Version of TensorFlow and Access to GPU"
   ]
  },
  {
   "cell_type": "code",
   "execution_count": 8,
   "metadata": {
    "collapsed": false,
    "deletable": true,
    "editable": true
   },
   "outputs": [
    {
     "name": "stdout",
     "output_type": "stream",
     "text": [
      "TensorFlow Version: 1.1.0\n"
     ]
    },
    {
     "name": "stderr",
     "output_type": "stream",
     "text": [
      "/Users/Suman/S/Softwares/Installations/anaconda/envs/dlnd-tv-script-generation/lib/python3.5/site-packages/ipykernel/__main__.py:14: UserWarning: No GPU found. Please use a GPU to train your neural network.\n"
     ]
    }
   ],
   "source": [
    "\"\"\"\n",
    "DON'T MODIFY ANYTHING IN THIS CELL\n",
    "\"\"\"\n",
    "from distutils.version import LooseVersion\n",
    "import warnings\n",
    "import tensorflow as tf\n",
    "\n",
    "# Check TensorFlow Version\n",
    "assert LooseVersion(tf.__version__) >= LooseVersion('1.0'), 'Please use TensorFlow version 1.0 or newer'\n",
    "print('TensorFlow Version: {}'.format(tf.__version__))\n",
    "\n",
    "# Check for a GPU\n",
    "if not tf.test.gpu_device_name():\n",
    "    warnings.warn('No GPU found. Please use a GPU to train your neural network.')\n",
    "else:\n",
    "    print('Default GPU Device: {}'.format(tf.test.gpu_device_name()))"
   ]
  },
  {
   "cell_type": "markdown",
   "metadata": {
    "deletable": true,
    "editable": true
   },
   "source": [
    "### Input\n",
    "Implement the `get_inputs()` function to create TF Placeholders for the Neural Network.  It should create the following placeholders:\n",
    "- Input text placeholder named \"input\" using the [TF Placeholder](https://www.tensorflow.org/api_docs/python/tf/placeholder) `name` parameter.\n",
    "- Targets placeholder\n",
    "- Learning Rate placeholder\n",
    "\n",
    "Return the placeholders in the following tuple `(Input, Targets, LearningRate)`"
   ]
  },
  {
   "cell_type": "code",
   "execution_count": 9,
   "metadata": {
    "collapsed": false,
    "deletable": true,
    "editable": true
   },
   "outputs": [
    {
     "name": "stdout",
     "output_type": "stream",
     "text": [
      "Tests Passed\n"
     ]
    }
   ],
   "source": [
    "def get_inputs():\n",
    "    \"\"\"\n",
    "    Create TF Placeholders for input, targets, and learning rate.\n",
    "    :return: Tuple (input, targets, learning rate)\n",
    "    \"\"\"\n",
    "    # TODO: Implement Function\n",
    "    inputs = tf.placeholder(tf.int32, [None, None], name=\"input\")\n",
    "    targets = tf.placeholder(tf.int32, [None, None], name=\"targest\")\n",
    "    lr = tf.placeholder(tf.float32, name=\"learning_rate\")\n",
    "    return inputs, targets, lr\n",
    "\n",
    "\n",
    "\"\"\"\n",
    "DON'T MODIFY ANYTHING IN THIS CELL THAT IS BELOW THIS LINE\n",
    "\"\"\"\n",
    "tests.test_get_inputs(get_inputs)"
   ]
  },
  {
   "cell_type": "markdown",
   "metadata": {
    "deletable": true,
    "editable": true
   },
   "source": [
    "### Build RNN Cell and Initialize\n",
    "Stack one or more [`BasicLSTMCells`](https://www.tensorflow.org/api_docs/python/tf/contrib/rnn/BasicLSTMCell) in a [`MultiRNNCell`](https://www.tensorflow.org/api_docs/python/tf/contrib/rnn/MultiRNNCell).\n",
    "- The Rnn size should be set using `rnn_size`\n",
    "- Initalize Cell State using the MultiRNNCell's [`zero_state()`](https://www.tensorflow.org/api_docs/python/tf/contrib/rnn/MultiRNNCell#zero_state) function\n",
    "    - Apply the name \"initial_state\" to the initial state using [`tf.identity()`](https://www.tensorflow.org/api_docs/python/tf/identity)\n",
    "\n",
    "Return the cell and initial state in the following tuple `(Cell, InitialState)`"
   ]
  },
  {
   "cell_type": "code",
   "execution_count": 10,
   "metadata": {
    "collapsed": false,
    "deletable": true,
    "editable": true
   },
   "outputs": [
    {
     "name": "stdout",
     "output_type": "stream",
     "text": [
      "Tests Passed\n"
     ]
    }
   ],
   "source": [
    "def get_init_cell(batch_size, rnn_size):\n",
    "    \"\"\"\n",
    "    Create an RNN Cell and initialize it.\n",
    "    :param batch_size: Size of batches\n",
    "    :param rnn_size: Size of RNNs\n",
    "    :return: Tuple (cell, initialize state)\n",
    "    \"\"\"\n",
    "    # TODO: Implement Function\n",
    "    lstm = tf.contrib.rnn.BasicLSTMCell(rnn_size)\n",
    "    cell = tf.contrib.rnn.MultiRNNCell([lstm])\n",
    "    init = cell.zero_state(batch_size, tf.float32)\n",
    "    init = tf.identity(init, \"initial_state\") \n",
    "    return cell, init\n",
    "\n",
    "\n",
    "\"\"\"\n",
    "DON'T MODIFY ANYTHING IN THIS CELL THAT IS BELOW THIS LINE\n",
    "\"\"\"\n",
    "tests.test_get_init_cell(get_init_cell)"
   ]
  },
  {
   "cell_type": "markdown",
   "metadata": {
    "deletable": true,
    "editable": true
   },
   "source": [
    "### Word Embedding\n",
    "Apply embedding to `input_data` using TensorFlow.  Return the embedded sequence."
   ]
  },
  {
   "cell_type": "code",
   "execution_count": 11,
   "metadata": {
    "collapsed": false,
    "deletable": true,
    "editable": true
   },
   "outputs": [
    {
     "name": "stdout",
     "output_type": "stream",
     "text": [
      "Tests Passed\n"
     ]
    }
   ],
   "source": [
    "def get_embed(input_data, vocab_size, embed_dim):\n",
    "    \"\"\"\n",
    "    Create embedding for <input_data>.\n",
    "    :param input_data: TF placeholder for text input.\n",
    "    :param vocab_size: Number of words in vocabulary.\n",
    "    :param embed_dim: Number of embedding dimensions\n",
    "    :return: Embedded input.\n",
    "    \"\"\"\n",
    "    # TODO: Implement Function\n",
    "    embeddings = tf.Variable(tf.random_uniform((vocab_size, embed_dim), -1, 1))\n",
    "    lookup = tf.nn.embedding_lookup(embeddings, input_data)\n",
    "    return lookup\n",
    "\n",
    "\n",
    "\"\"\"\n",
    "DON'T MODIFY ANYTHING IN THIS CELL THAT IS BELOW THIS LINE\n",
    "\"\"\"\n",
    "tests.test_get_embed(get_embed)"
   ]
  },
  {
   "cell_type": "markdown",
   "metadata": {
    "deletable": true,
    "editable": true
   },
   "source": [
    "### Build RNN\n",
    "You created a RNN Cell in the `get_init_cell()` function.  Time to use the cell to create a RNN.\n",
    "- Build the RNN using the [`tf.nn.dynamic_rnn()`](https://www.tensorflow.org/api_docs/python/tf/nn/dynamic_rnn)\n",
    " - Apply the name \"final_state\" to the final state using [`tf.identity()`](https://www.tensorflow.org/api_docs/python/tf/identity)\n",
    "\n",
    "Return the outputs and final_state state in the following tuple `(Outputs, FinalState)` "
   ]
  },
  {
   "cell_type": "code",
   "execution_count": 12,
   "metadata": {
    "collapsed": false,
    "deletable": true,
    "editable": true
   },
   "outputs": [
    {
     "name": "stdout",
     "output_type": "stream",
     "text": [
      "Tests Passed\n"
     ]
    }
   ],
   "source": [
    "def build_rnn(cell, inputs):\n",
    "    \"\"\"\n",
    "    Create a RNN using a RNN Cell\n",
    "    :param cell: RNN Cell\n",
    "    :param inputs: Input text data\n",
    "    :return: Tuple (Outputs, Final State)\n",
    "    \"\"\"\n",
    "    # TODO: Implement Function\n",
    "    outputs, final_state = tf.nn.dynamic_rnn(cell, inputs, dtype=tf.float32)\n",
    "    final_state = tf.identity(final_state, \"final_state\")\n",
    "    return outputs, final_state\n",
    "\n",
    "\n",
    "\"\"\"\n",
    "DON'T MODIFY ANYTHING IN THIS CELL THAT IS BELOW THIS LINE\n",
    "\"\"\"\n",
    "tests.test_build_rnn(build_rnn)"
   ]
  },
  {
   "cell_type": "markdown",
   "metadata": {
    "deletable": true,
    "editable": true
   },
   "source": [
    "### Build the Neural Network\n",
    "Apply the functions you implemented above to:\n",
    "- Apply embedding to `input_data` using your `get_embed(input_data, vocab_size, embed_dim)` function.\n",
    "- Build RNN using `cell` and your `build_rnn(cell, inputs)` function.\n",
    "- Apply a fully connected layer with a linear activation and `vocab_size` as the number of outputs.\n",
    "\n",
    "Return the logits and final state in the following tuple (Logits, FinalState) "
   ]
  },
  {
   "cell_type": "code",
   "execution_count": 17,
   "metadata": {
    "collapsed": false,
    "deletable": true,
    "editable": true
   },
   "outputs": [
    {
     "name": "stdout",
     "output_type": "stream",
     "text": [
      "Tests Passed\n"
     ]
    }
   ],
   "source": [
    "def build_nn(cell, rnn_size, input_data, vocab_size, embed_dim):\n",
    "    \"\"\"\n",
    "    Build part of the neural network\n",
    "    :param cell: RNN cell\n",
    "    :param rnn_size: Size of rnns\n",
    "    :param input_data: Input data\n",
    "    :param vocab_size: Vocabulary size\n",
    "    :param embed_dim: Number of embedding dimensions\n",
    "    :return: Tuple (Logits, FinalState)\n",
    "    \"\"\"\n",
    "    # TODO: Implement Function\n",
    "    embed = get_embed(input_data, vocab_size, rnn_size)\n",
    "    rnn, final_state = build_rnn(cell, embed)\n",
    "    logits = tf.contrib.layers.fully_connected(rnn, vocab_size,\n",
    "                                               weights_initializer = tf.truncated_normal_initializer(stddev=0.01),\n",
    "                                               biases_initializer = tf.zeros_initializer(),\n",
    "                                               activation_fn=None)\n",
    "    return logits, final_state\n",
    "\n",
    "\n",
    "\"\"\"\n",
    "DON'T MODIFY ANYTHING IN THIS CELL THAT IS BELOW THIS LINE\n",
    "\"\"\"\n",
    "tests.test_build_nn(build_nn)"
   ]
  },
  {
   "cell_type": "markdown",
   "metadata": {
    "deletable": true,
    "editable": true
   },
   "source": [
    "### Batches\n",
    "Implement `get_batches` to create batches of input and targets using `int_text`.  The batches should be a Numpy array with the shape `(number of batches, 2, batch size, sequence length)`. Each batch contains two elements:\n",
    "- The first element is a single batch of **input** with the shape `[batch size, sequence length]`\n",
    "- The second element is a single batch of **targets** with the shape `[batch size, sequence length]`\n",
    "\n",
    "If you can't fill the last batch with enough data, drop the last batch.\n",
    "\n",
    "For exmple, `get_batches([1, 2, 3, 4, 5, 6, 7, 8, 9, 10, 11, 12, 13, 14, 15], 2, 3)` would return a Numpy array of the following:\n",
    "```\n",
    "[\n",
    "  # First Batch\n",
    "  [\n",
    "    # Batch of Input\n",
    "    [[ 1  2  3], [ 7  8  9]],\n",
    "    # Batch of targets\n",
    "    [[ 2  3  4], [ 8  9 10]]\n",
    "  ],\n",
    " \n",
    "  # Second Batch\n",
    "  [\n",
    "    # Batch of Input\n",
    "    [[ 4  5  6], [10 11 12]],\n",
    "    # Batch of targets\n",
    "    [[ 5  6  7], [11 12 13]]\n",
    "  ]\n",
    "]\n",
    "```"
   ]
  },
  {
   "cell_type": "code",
   "execution_count": 18,
   "metadata": {
    "collapsed": false,
    "deletable": true,
    "editable": true
   },
   "outputs": [
    {
     "name": "stdout",
     "output_type": "stream",
     "text": [
      "Tests Passed\n"
     ]
    }
   ],
   "source": [
    "def get_batches(int_text, batch_size, seq_length):\n",
    "    \"\"\"\n",
    "    Return batches of input and target\n",
    "    :param int_text: Text with the words replaced by their ids\n",
    "    :param batch_size: The size of batch\n",
    "    :param seq_length: The length of sequence\n",
    "    :return: Batches as a Numpy array\n",
    "    \"\"\"\n",
    "    # TODO: Implement Function\n",
    "    n_batches = len(int_text) // (batch_size * seq_length)\n",
    "    xdata = np.array(int_text[: n_batches * batch_size * seq_length])\n",
    "    ydata = np.array(int_text[1: n_batches * batch_size * seq_length + 1])\n",
    "    x_batches = np.split(xdata.reshape(batch_size, -1), n_batches, 1)\n",
    "    y_batches = np.split(ydata.reshape(batch_size, -1), n_batches, 1)\n",
    "    \n",
    "    return np.array(list(zip(x_batches, y_batches)))\n",
    "\n",
    "\n",
    "\"\"\"\n",
    "DON'T MODIFY ANYTHING IN THIS CELL THAT IS BELOW THIS LINE\n",
    "\"\"\"\n",
    "tests.test_get_batches(get_batches)"
   ]
  },
  {
   "cell_type": "markdown",
   "metadata": {
    "deletable": true,
    "editable": true
   },
   "source": [
    "## Neural Network Training\n",
    "### Hyperparameters\n",
    "Tune the following parameters:\n",
    "\n",
    "- Set `num_epochs` to the number of epochs.\n",
    "- Set `batch_size` to the batch size.\n",
    "- Set `rnn_size` to the size of the RNNs.\n",
    "- Set `embed_dim` to the size of the embedding.\n",
    "- Set `seq_length` to the length of sequence.\n",
    "- Set `learning_rate` to the learning rate.\n",
    "- Set `show_every_n_batches` to the number of batches the neural network should print progress."
   ]
  },
  {
   "cell_type": "code",
   "execution_count": 26,
   "metadata": {
    "collapsed": true,
    "deletable": true,
    "editable": true
   },
   "outputs": [],
   "source": [
    "# Number of Epochs\n",
    "num_epochs = 100\n",
    "# Batch Size\n",
    "batch_size = 128\n",
    "# RNN Size\n",
    "rnn_size = 256\n",
    "# Embedding Dimension Size\n",
    "embed_dim = None\n",
    "# Sequence Length\n",
    "seq_length = 15\n",
    "# Learning Rate\n",
    "learning_rate = 0.01\n",
    "# Show stats for every n number of batches\n",
    "show_every_n_batches = 10\n",
    "\n",
    "\"\"\"\n",
    "DON'T MODIFY ANYTHING IN THIS CELL THAT IS BELOW THIS LINE\n",
    "\"\"\"\n",
    "save_dir = './save'"
   ]
  },
  {
   "cell_type": "markdown",
   "metadata": {
    "deletable": true,
    "editable": true
   },
   "source": [
    "### Build the Graph\n",
    "Build the graph using the neural network you implemented."
   ]
  },
  {
   "cell_type": "code",
   "execution_count": 27,
   "metadata": {
    "collapsed": false,
    "deletable": true,
    "editable": true
   },
   "outputs": [],
   "source": [
    "\"\"\"\n",
    "DON'T MODIFY ANYTHING IN THIS CELL\n",
    "\"\"\"\n",
    "from tensorflow.contrib import seq2seq\n",
    "\n",
    "train_graph = tf.Graph()\n",
    "with train_graph.as_default():\n",
    "    vocab_size = len(int_to_vocab)\n",
    "    input_text, targets, lr = get_inputs()\n",
    "    input_data_shape = tf.shape(input_text)\n",
    "    cell, initial_state = get_init_cell(input_data_shape[0], rnn_size)\n",
    "    logits, final_state = build_nn(cell, rnn_size, input_text, vocab_size, embed_dim)\n",
    "\n",
    "    # Probabilities for generating words\n",
    "    probs = tf.nn.softmax(logits, name='probs')\n",
    "\n",
    "    # Loss function\n",
    "    cost = seq2seq.sequence_loss(\n",
    "        logits,\n",
    "        targets,\n",
    "        tf.ones([input_data_shape[0], input_data_shape[1]]))\n",
    "\n",
    "    # Optimizer\n",
    "    optimizer = tf.train.AdamOptimizer(lr)\n",
    "\n",
    "    # Gradient Clipping\n",
    "    gradients = optimizer.compute_gradients(cost)\n",
    "    capped_gradients = [(tf.clip_by_value(grad, -1., 1.), var) for grad, var in gradients if grad is not None]\n",
    "    train_op = optimizer.apply_gradients(capped_gradients)"
   ]
  },
  {
   "cell_type": "markdown",
   "metadata": {
    "deletable": true,
    "editable": true
   },
   "source": [
    "## Train\n",
    "Train the neural network on the preprocessed data.  If you have a hard time getting a good loss, check the [forms](https://discussions.udacity.com/) to see if anyone is having the same problem."
   ]
  },
  {
   "cell_type": "code",
   "execution_count": 23,
   "metadata": {
    "collapsed": false,
    "deletable": true,
    "editable": true
   },
   "outputs": [
    {
     "name": "stdout",
     "output_type": "stream",
     "text": [
      "Epoch   0 Batch    0/35   train_loss = 8.820\n",
      "Epoch   0 Batch   10/35   train_loss = 6.422\n",
      "Epoch   0 Batch   20/35   train_loss = 5.841\n",
      "Epoch   0 Batch   30/35   train_loss = 5.452\n",
      "Epoch   1 Batch    5/35   train_loss = 5.010\n",
      "Epoch   1 Batch   15/35   train_loss = 4.952\n",
      "Epoch   1 Batch   25/35   train_loss = 4.658\n",
      "Epoch   2 Batch    0/35   train_loss = 4.494\n",
      "Epoch   2 Batch   10/35   train_loss = 4.642\n",
      "Epoch   2 Batch   20/35   train_loss = 4.427\n",
      "Epoch   2 Batch   30/35   train_loss = 4.246\n",
      "Epoch   3 Batch    5/35   train_loss = 4.119\n",
      "Epoch   3 Batch   15/35   train_loss = 4.167\n",
      "Epoch   3 Batch   25/35   train_loss = 3.959\n",
      "Epoch   4 Batch    0/35   train_loss = 3.817\n",
      "Epoch   4 Batch   10/35   train_loss = 3.889\n",
      "Epoch   4 Batch   20/35   train_loss = 3.729\n",
      "Epoch   4 Batch   30/35   train_loss = 3.626\n",
      "Epoch   5 Batch    5/35   train_loss = 3.504\n",
      "Epoch   5 Batch   15/35   train_loss = 3.450\n",
      "Epoch   5 Batch   25/35   train_loss = 3.320\n",
      "Epoch   6 Batch    0/35   train_loss = 3.269\n",
      "Epoch   6 Batch   10/35   train_loss = 3.245\n",
      "Epoch   6 Batch   20/35   train_loss = 3.088\n",
      "Epoch   6 Batch   30/35   train_loss = 3.045\n",
      "Epoch   7 Batch    5/35   train_loss = 2.976\n",
      "Epoch   7 Batch   15/35   train_loss = 2.822\n",
      "Epoch   7 Batch   25/35   train_loss = 2.838\n",
      "Epoch   8 Batch    0/35   train_loss = 2.722\n",
      "Epoch   8 Batch   10/35   train_loss = 2.706\n",
      "Epoch   8 Batch   20/35   train_loss = 2.554\n",
      "Epoch   8 Batch   30/35   train_loss = 2.588\n",
      "Epoch   9 Batch    5/35   train_loss = 2.523\n",
      "Epoch   9 Batch   15/35   train_loss = 2.400\n",
      "Epoch   9 Batch   25/35   train_loss = 2.451\n",
      "Epoch  10 Batch    0/35   train_loss = 2.352\n",
      "Epoch  10 Batch   10/35   train_loss = 2.310\n",
      "Epoch  10 Batch   20/35   train_loss = 2.186\n",
      "Epoch  10 Batch   30/35   train_loss = 2.215\n",
      "Epoch  11 Batch    5/35   train_loss = 2.158\n",
      "Epoch  11 Batch   15/35   train_loss = 2.060\n",
      "Epoch  11 Batch   25/35   train_loss = 2.080\n",
      "Epoch  12 Batch    0/35   train_loss = 2.028\n",
      "Epoch  12 Batch   10/35   train_loss = 1.990\n",
      "Epoch  12 Batch   20/35   train_loss = 1.887\n",
      "Epoch  12 Batch   30/35   train_loss = 1.924\n",
      "Epoch  13 Batch    5/35   train_loss = 1.871\n",
      "Epoch  13 Batch   15/35   train_loss = 1.795\n",
      "Epoch  13 Batch   25/35   train_loss = 1.836\n",
      "Epoch  14 Batch    0/35   train_loss = 1.789\n",
      "Epoch  14 Batch   10/35   train_loss = 1.751\n",
      "Epoch  14 Batch   20/35   train_loss = 1.648\n",
      "Epoch  14 Batch   30/35   train_loss = 1.691\n",
      "Epoch  15 Batch    5/35   train_loss = 1.654\n",
      "Epoch  15 Batch   15/35   train_loss = 1.575\n",
      "Epoch  15 Batch   25/35   train_loss = 1.612\n",
      "Epoch  16 Batch    0/35   train_loss = 1.565\n",
      "Epoch  16 Batch   10/35   train_loss = 1.526\n",
      "Epoch  16 Batch   20/35   train_loss = 1.452\n",
      "Epoch  16 Batch   30/35   train_loss = 1.492\n",
      "Epoch  17 Batch    5/35   train_loss = 1.448\n",
      "Epoch  17 Batch   15/35   train_loss = 1.394\n",
      "Epoch  17 Batch   25/35   train_loss = 1.426\n",
      "Epoch  18 Batch    0/35   train_loss = 1.380\n",
      "Epoch  18 Batch   10/35   train_loss = 1.322\n",
      "Epoch  18 Batch   20/35   train_loss = 1.228\n",
      "Epoch  18 Batch   30/35   train_loss = 1.340\n",
      "Epoch  19 Batch    5/35   train_loss = 1.281\n",
      "Epoch  19 Batch   15/35   train_loss = 1.222\n",
      "Epoch  19 Batch   25/35   train_loss = 1.242\n",
      "Epoch  20 Batch    0/35   train_loss = 1.243\n",
      "Epoch  20 Batch   10/35   train_loss = 1.172\n",
      "Epoch  20 Batch   20/35   train_loss = 1.103\n",
      "Epoch  20 Batch   30/35   train_loss = 1.179\n",
      "Epoch  21 Batch    5/35   train_loss = 1.111\n",
      "Epoch  21 Batch   15/35   train_loss = 1.081\n",
      "Epoch  21 Batch   25/35   train_loss = 1.102\n",
      "Epoch  22 Batch    0/35   train_loss = 1.096\n",
      "Epoch  22 Batch   10/35   train_loss = 1.039\n",
      "Epoch  22 Batch   20/35   train_loss = 0.982\n",
      "Epoch  22 Batch   30/35   train_loss = 1.077\n",
      "Epoch  23 Batch    5/35   train_loss = 0.996\n",
      "Epoch  23 Batch   15/35   train_loss = 1.006\n",
      "Epoch  23 Batch   25/35   train_loss = 1.006\n",
      "Epoch  24 Batch    0/35   train_loss = 1.024\n",
      "Epoch  24 Batch   10/35   train_loss = 0.947\n",
      "Epoch  24 Batch   20/35   train_loss = 0.906\n",
      "Epoch  24 Batch   30/35   train_loss = 0.964\n",
      "Epoch  25 Batch    5/35   train_loss = 0.924\n",
      "Epoch  25 Batch   15/35   train_loss = 0.908\n",
      "Epoch  25 Batch   25/35   train_loss = 0.913\n",
      "Epoch  26 Batch    0/35   train_loss = 0.936\n",
      "Epoch  26 Batch   10/35   train_loss = 0.842\n",
      "Epoch  26 Batch   20/35   train_loss = 0.814\n",
      "Epoch  26 Batch   30/35   train_loss = 0.868\n",
      "Epoch  27 Batch    5/35   train_loss = 0.831\n",
      "Epoch  27 Batch   15/35   train_loss = 0.841\n",
      "Epoch  27 Batch   25/35   train_loss = 0.813\n",
      "Epoch  28 Batch    0/35   train_loss = 0.869\n",
      "Epoch  28 Batch   10/35   train_loss = 0.757\n",
      "Epoch  28 Batch   20/35   train_loss = 0.759\n",
      "Epoch  28 Batch   30/35   train_loss = 0.808\n",
      "Epoch  29 Batch    5/35   train_loss = 0.752\n",
      "Epoch  29 Batch   15/35   train_loss = 0.755\n",
      "Epoch  29 Batch   25/35   train_loss = 0.752\n",
      "Epoch  30 Batch    0/35   train_loss = 0.785\n",
      "Epoch  30 Batch   10/35   train_loss = 0.711\n",
      "Epoch  30 Batch   20/35   train_loss = 0.707\n",
      "Epoch  30 Batch   30/35   train_loss = 0.765\n",
      "Epoch  31 Batch    5/35   train_loss = 0.705\n",
      "Epoch  31 Batch   15/35   train_loss = 0.699\n",
      "Epoch  31 Batch   25/35   train_loss = 0.725\n",
      "Epoch  32 Batch    0/35   train_loss = 0.721\n",
      "Epoch  32 Batch   10/35   train_loss = 0.680\n",
      "Epoch  32 Batch   20/35   train_loss = 0.639\n",
      "Epoch  32 Batch   30/35   train_loss = 0.719\n",
      "Epoch  33 Batch    5/35   train_loss = 0.670\n",
      "Epoch  33 Batch   15/35   train_loss = 0.663\n",
      "Epoch  33 Batch   25/35   train_loss = 0.662\n",
      "Epoch  34 Batch    0/35   train_loss = 0.694\n",
      "Epoch  34 Batch   10/35   train_loss = 0.654\n",
      "Epoch  34 Batch   20/35   train_loss = 0.591\n",
      "Epoch  34 Batch   30/35   train_loss = 0.660\n",
      "Epoch  35 Batch    5/35   train_loss = 0.624\n",
      "Epoch  35 Batch   15/35   train_loss = 0.604\n",
      "Epoch  35 Batch   25/35   train_loss = 0.592\n",
      "Epoch  36 Batch    0/35   train_loss = 0.639\n",
      "Epoch  36 Batch   10/35   train_loss = 0.577\n",
      "Epoch  36 Batch   20/35   train_loss = 0.533\n",
      "Epoch  36 Batch   30/35   train_loss = 0.621\n",
      "Epoch  37 Batch    5/35   train_loss = 0.585\n",
      "Epoch  37 Batch   15/35   train_loss = 0.554\n",
      "Epoch  37 Batch   25/35   train_loss = 0.541\n",
      "Epoch  38 Batch    0/35   train_loss = 0.570\n",
      "Epoch  38 Batch   10/35   train_loss = 0.528\n",
      "Epoch  38 Batch   20/35   train_loss = 0.503\n",
      "Epoch  38 Batch   30/35   train_loss = 0.552\n",
      "Epoch  39 Batch    5/35   train_loss = 0.520\n",
      "Epoch  39 Batch   15/35   train_loss = 0.518\n",
      "Epoch  39 Batch   25/35   train_loss = 0.483\n",
      "Epoch  40 Batch    0/35   train_loss = 0.524\n",
      "Epoch  40 Batch   10/35   train_loss = 0.488\n",
      "Epoch  40 Batch   20/35   train_loss = 0.465\n",
      "Epoch  40 Batch   30/35   train_loss = 0.493\n",
      "Epoch  41 Batch    5/35   train_loss = 0.474\n",
      "Epoch  41 Batch   15/35   train_loss = 0.468\n",
      "Epoch  41 Batch   25/35   train_loss = 0.455\n",
      "Epoch  42 Batch    0/35   train_loss = 0.486\n",
      "Epoch  42 Batch   10/35   train_loss = 0.442\n",
      "Epoch  42 Batch   20/35   train_loss = 0.422\n",
      "Epoch  42 Batch   30/35   train_loss = 0.458\n",
      "Epoch  43 Batch    5/35   train_loss = 0.428\n",
      "Epoch  43 Batch   15/35   train_loss = 0.429\n",
      "Epoch  43 Batch   25/35   train_loss = 0.401\n",
      "Epoch  44 Batch    0/35   train_loss = 0.433\n",
      "Epoch  44 Batch   10/35   train_loss = 0.409\n",
      "Epoch  44 Batch   20/35   train_loss = 0.384\n",
      "Epoch  44 Batch   30/35   train_loss = 0.424\n",
      "Epoch  45 Batch    5/35   train_loss = 0.383\n",
      "Epoch  45 Batch   15/35   train_loss = 0.394\n",
      "Epoch  45 Batch   25/35   train_loss = 0.375\n",
      "Epoch  46 Batch    0/35   train_loss = 0.397\n",
      "Epoch  46 Batch   10/35   train_loss = 0.369\n",
      "Epoch  46 Batch   20/35   train_loss = 0.349\n",
      "Epoch  46 Batch   30/35   train_loss = 0.386\n",
      "Epoch  47 Batch    5/35   train_loss = 0.352\n",
      "Epoch  47 Batch   15/35   train_loss = 0.369\n",
      "Epoch  47 Batch   25/35   train_loss = 0.338\n",
      "Epoch  48 Batch    0/35   train_loss = 0.367\n",
      "Epoch  48 Batch   10/35   train_loss = 0.343\n",
      "Epoch  48 Batch   20/35   train_loss = 0.317\n",
      "Epoch  48 Batch   30/35   train_loss = 0.350\n",
      "Epoch  49 Batch    5/35   train_loss = 0.326\n",
      "Epoch  49 Batch   15/35   train_loss = 0.338\n",
      "Epoch  49 Batch   25/35   train_loss = 0.312\n",
      "Epoch  50 Batch    0/35   train_loss = 0.334\n",
      "Epoch  50 Batch   10/35   train_loss = 0.314\n",
      "Epoch  50 Batch   20/35   train_loss = 0.292\n",
      "Epoch  50 Batch   30/35   train_loss = 0.312\n",
      "Epoch  51 Batch    5/35   train_loss = 0.305\n",
      "Epoch  51 Batch   15/35   train_loss = 0.303\n",
      "Epoch  51 Batch   25/35   train_loss = 0.290\n",
      "Epoch  52 Batch    0/35   train_loss = 0.304\n",
      "Epoch  52 Batch   10/35   train_loss = 0.296\n",
      "Epoch  52 Batch   20/35   train_loss = 0.268\n",
      "Epoch  52 Batch   30/35   train_loss = 0.287\n",
      "Epoch  53 Batch    5/35   train_loss = 0.283\n",
      "Epoch  53 Batch   15/35   train_loss = 0.291\n",
      "Epoch  53 Batch   25/35   train_loss = 0.267\n",
      "Epoch  54 Batch    0/35   train_loss = 0.285\n",
      "Epoch  54 Batch   10/35   train_loss = 0.279\n",
      "Epoch  54 Batch   20/35   train_loss = 0.250\n",
      "Epoch  54 Batch   30/35   train_loss = 0.270\n",
      "Epoch  55 Batch    5/35   train_loss = 0.268\n",
      "Epoch  55 Batch   15/35   train_loss = 0.274\n",
      "Epoch  55 Batch   25/35   train_loss = 0.252\n",
      "Epoch  56 Batch    0/35   train_loss = 0.271\n",
      "Epoch  56 Batch   10/35   train_loss = 0.267\n",
      "Epoch  56 Batch   20/35   train_loss = 0.242\n",
      "Epoch  56 Batch   30/35   train_loss = 0.258\n",
      "Epoch  57 Batch    5/35   train_loss = 0.259\n",
      "Epoch  57 Batch   15/35   train_loss = 0.262\n",
      "Epoch  57 Batch   25/35   train_loss = 0.246\n",
      "Epoch  58 Batch    0/35   train_loss = 0.260\n",
      "Epoch  58 Batch   10/35   train_loss = 0.258\n",
      "Epoch  58 Batch   20/35   train_loss = 0.233\n",
      "Epoch  58 Batch   30/35   train_loss = 0.253\n",
      "Epoch  59 Batch    5/35   train_loss = 0.254\n",
      "Epoch  59 Batch   15/35   train_loss = 0.258\n",
      "Epoch  59 Batch   25/35   train_loss = 0.240\n",
      "Epoch  60 Batch    0/35   train_loss = 0.253\n",
      "Epoch  60 Batch   10/35   train_loss = 0.252\n",
      "Epoch  60 Batch   20/35   train_loss = 0.229\n",
      "Epoch  60 Batch   30/35   train_loss = 0.247\n",
      "Epoch  61 Batch    5/35   train_loss = 0.251\n",
      "Epoch  61 Batch   15/35   train_loss = 0.255\n",
      "Epoch  61 Batch   25/35   train_loss = 0.238\n",
      "Epoch  62 Batch    0/35   train_loss = 0.250\n",
      "Epoch  62 Batch   10/35   train_loss = 0.249\n",
      "Epoch  62 Batch   20/35   train_loss = 0.226\n",
      "Epoch  62 Batch   30/35   train_loss = 0.243\n",
      "Epoch  63 Batch    5/35   train_loss = 0.249\n",
      "Epoch  63 Batch   15/35   train_loss = 0.254\n",
      "Epoch  63 Batch   25/35   train_loss = 0.236\n",
      "Epoch  64 Batch    0/35   train_loss = 0.248\n",
      "Epoch  64 Batch   10/35   train_loss = 0.245\n",
      "Epoch  64 Batch   20/35   train_loss = 0.223\n",
      "Epoch  64 Batch   30/35   train_loss = 0.242\n",
      "Epoch  65 Batch    5/35   train_loss = 0.247\n",
      "Epoch  65 Batch   15/35   train_loss = 0.253\n",
      "Epoch  65 Batch   25/35   train_loss = 0.234\n",
      "Epoch  66 Batch    0/35   train_loss = 0.246\n",
      "Epoch  66 Batch   10/35   train_loss = 0.244\n",
      "Epoch  66 Batch   20/35   train_loss = 0.222\n",
      "Epoch  66 Batch   30/35   train_loss = 0.240\n",
      "Epoch  67 Batch    5/35   train_loss = 0.246\n",
      "Epoch  67 Batch   15/35   train_loss = 0.251\n",
      "Epoch  67 Batch   25/35   train_loss = 0.233\n",
      "Epoch  68 Batch    0/35   train_loss = 0.244\n",
      "Epoch  68 Batch   10/35   train_loss = 0.243\n",
      "Epoch  68 Batch   20/35   train_loss = 0.221\n",
      "Epoch  68 Batch   30/35   train_loss = 0.240\n",
      "Epoch  69 Batch    5/35   train_loss = 0.245\n",
      "Epoch  69 Batch   15/35   train_loss = 0.250\n",
      "Epoch  69 Batch   25/35   train_loss = 0.231\n",
      "Epoch  70 Batch    0/35   train_loss = 0.243\n",
      "Epoch  70 Batch   10/35   train_loss = 0.242\n",
      "Epoch  70 Batch   20/35   train_loss = 0.220\n",
      "Epoch  70 Batch   30/35   train_loss = 0.239\n",
      "Epoch  71 Batch    5/35   train_loss = 0.245\n",
      "Epoch  71 Batch   15/35   train_loss = 0.250\n",
      "Epoch  71 Batch   25/35   train_loss = 0.231\n",
      "Epoch  72 Batch    0/35   train_loss = 0.242\n",
      "Epoch  72 Batch   10/35   train_loss = 0.242\n",
      "Epoch  72 Batch   20/35   train_loss = 0.219\n",
      "Epoch  72 Batch   30/35   train_loss = 0.238\n",
      "Epoch  73 Batch    5/35   train_loss = 0.244\n",
      "Epoch  73 Batch   15/35   train_loss = 0.249\n",
      "Epoch  73 Batch   25/35   train_loss = 0.230\n",
      "Epoch  74 Batch    0/35   train_loss = 0.241\n",
      "Epoch  74 Batch   10/35   train_loss = 0.241\n",
      "Epoch  74 Batch   20/35   train_loss = 0.219\n",
      "Epoch  74 Batch   30/35   train_loss = 0.238\n",
      "Epoch  75 Batch    5/35   train_loss = 0.244\n",
      "Epoch  75 Batch   15/35   train_loss = 0.249\n",
      "Epoch  75 Batch   25/35   train_loss = 0.229\n",
      "Epoch  76 Batch    0/35   train_loss = 0.241\n",
      "Epoch  76 Batch   10/35   train_loss = 0.241\n",
      "Epoch  76 Batch   20/35   train_loss = 0.218\n",
      "Epoch  76 Batch   30/35   train_loss = 0.237\n",
      "Epoch  77 Batch    5/35   train_loss = 0.244\n",
      "Epoch  77 Batch   15/35   train_loss = 0.248\n",
      "Epoch  77 Batch   25/35   train_loss = 0.229\n",
      "Epoch  78 Batch    0/35   train_loss = 0.240\n",
      "Epoch  78 Batch   10/35   train_loss = 0.240\n",
      "Epoch  78 Batch   20/35   train_loss = 0.218\n",
      "Epoch  78 Batch   30/35   train_loss = 0.237\n",
      "Epoch  79 Batch    5/35   train_loss = 0.243\n",
      "Epoch  79 Batch   15/35   train_loss = 0.248\n",
      "Epoch  79 Batch   25/35   train_loss = 0.228\n",
      "Epoch  80 Batch    0/35   train_loss = 0.239\n",
      "Epoch  80 Batch   10/35   train_loss = 0.240\n",
      "Epoch  80 Batch   20/35   train_loss = 0.218\n",
      "Epoch  80 Batch   30/35   train_loss = 0.237\n",
      "Epoch  81 Batch    5/35   train_loss = 0.243\n",
      "Epoch  81 Batch   15/35   train_loss = 0.248\n",
      "Epoch  81 Batch   25/35   train_loss = 0.228\n",
      "Epoch  82 Batch    0/35   train_loss = 0.239\n",
      "Epoch  82 Batch   10/35   train_loss = 0.240\n",
      "Epoch  82 Batch   20/35   train_loss = 0.218\n",
      "Epoch  82 Batch   30/35   train_loss = 0.237\n",
      "Epoch  83 Batch    5/35   train_loss = 0.243\n",
      "Epoch  83 Batch   15/35   train_loss = 0.248\n",
      "Epoch  83 Batch   25/35   train_loss = 0.228\n",
      "Epoch  84 Batch    0/35   train_loss = 0.239\n",
      "Epoch  84 Batch   10/35   train_loss = 0.239\n",
      "Epoch  84 Batch   20/35   train_loss = 0.217\n",
      "Epoch  84 Batch   30/35   train_loss = 0.237\n",
      "Epoch  85 Batch    5/35   train_loss = 0.243\n",
      "Epoch  85 Batch   15/35   train_loss = 0.247\n",
      "Epoch  85 Batch   25/35   train_loss = 0.227\n",
      "Epoch  86 Batch    0/35   train_loss = 0.238\n",
      "Epoch  86 Batch   10/35   train_loss = 0.239\n",
      "Epoch  86 Batch   20/35   train_loss = 0.217\n",
      "Epoch  86 Batch   30/35   train_loss = 0.236\n",
      "Epoch  87 Batch    5/35   train_loss = 0.243\n",
      "Epoch  87 Batch   15/35   train_loss = 0.247\n",
      "Epoch  87 Batch   25/35   train_loss = 0.227\n",
      "Epoch  88 Batch    0/35   train_loss = 0.239\n",
      "Epoch  88 Batch   10/35   train_loss = 0.239\n",
      "Epoch  88 Batch   20/35   train_loss = 0.217\n",
      "Epoch  88 Batch   30/35   train_loss = 0.236\n",
      "Epoch  89 Batch    5/35   train_loss = 0.243\n",
      "Epoch  89 Batch   15/35   train_loss = 0.247\n",
      "Epoch  89 Batch   25/35   train_loss = 0.227\n",
      "Epoch  90 Batch    0/35   train_loss = 0.238\n",
      "Epoch  90 Batch   10/35   train_loss = 0.239\n",
      "Epoch  90 Batch   20/35   train_loss = 0.217\n",
      "Epoch  90 Batch   30/35   train_loss = 0.236\n",
      "Epoch  91 Batch    5/35   train_loss = 0.243\n",
      "Epoch  91 Batch   15/35   train_loss = 0.246\n",
      "Epoch  91 Batch   25/35   train_loss = 0.227\n",
      "Epoch  92 Batch    0/35   train_loss = 0.238\n",
      "Epoch  92 Batch   10/35   train_loss = 0.239\n",
      "Epoch  92 Batch   20/35   train_loss = 0.217\n",
      "Epoch  92 Batch   30/35   train_loss = 0.236\n",
      "Epoch  93 Batch    5/35   train_loss = 0.243\n",
      "Epoch  93 Batch   15/35   train_loss = 0.246\n",
      "Epoch  93 Batch   25/35   train_loss = 0.227\n",
      "Epoch  94 Batch    0/35   train_loss = 0.238\n",
      "Epoch  94 Batch   10/35   train_loss = 0.239\n",
      "Epoch  94 Batch   20/35   train_loss = 0.217\n",
      "Epoch  94 Batch   30/35   train_loss = 0.236\n",
      "Epoch  95 Batch    5/35   train_loss = 0.242\n",
      "Epoch  95 Batch   15/35   train_loss = 0.246\n",
      "Epoch  95 Batch   25/35   train_loss = 0.226\n",
      "Epoch  96 Batch    0/35   train_loss = 0.238\n",
      "Epoch  96 Batch   10/35   train_loss = 0.239\n",
      "Epoch  96 Batch   20/35   train_loss = 0.217\n",
      "Epoch  96 Batch   30/35   train_loss = 0.236\n",
      "Epoch  97 Batch    5/35   train_loss = 0.242\n",
      "Epoch  97 Batch   15/35   train_loss = 0.246\n",
      "Epoch  97 Batch   25/35   train_loss = 0.226\n",
      "Epoch  98 Batch    0/35   train_loss = 0.237\n",
      "Epoch  98 Batch   10/35   train_loss = 0.239\n",
      "Epoch  98 Batch   20/35   train_loss = 0.217\n",
      "Epoch  98 Batch   30/35   train_loss = 0.236\n",
      "Epoch  99 Batch    5/35   train_loss = 0.242\n",
      "Epoch  99 Batch   15/35   train_loss = 0.246\n",
      "Epoch  99 Batch   25/35   train_loss = 0.226\n",
      "Model Trained and Saved\n"
     ]
    }
   ],
   "source": [
    "\"\"\"\n",
    "DON'T MODIFY ANYTHING IN THIS CELL\n",
    "\"\"\"\n",
    "batches = get_batches(int_text, batch_size, seq_length)\n",
    "\n",
    "with tf.Session(graph=train_graph) as sess:\n",
    "    sess.run(tf.global_variables_initializer())\n",
    "\n",
    "    for epoch_i in range(num_epochs):\n",
    "        state = sess.run(initial_state, {input_text: batches[0][0]})\n",
    "\n",
    "        for batch_i, (x, y) in enumerate(batches):\n",
    "            feed = {\n",
    "                input_text: x,\n",
    "                targets: y,\n",
    "                initial_state: state,\n",
    "                lr: learning_rate}\n",
    "            train_loss, state, _ = sess.run([cost, final_state, train_op], feed)\n",
    "\n",
    "            # Show every <show_every_n_batches> batches\n",
    "            if (epoch_i * len(batches) + batch_i) % show_every_n_batches == 0:\n",
    "                print('Epoch {:>3} Batch {:>4}/{}   train_loss = {:.3f}'.format(\n",
    "                    epoch_i,\n",
    "                    batch_i,\n",
    "                    len(batches),\n",
    "                    train_loss))\n",
    "\n",
    "    # Save Model\n",
    "    saver = tf.train.Saver()\n",
    "    saver.save(sess, save_dir)\n",
    "    print('Model Trained and Saved')"
   ]
  },
  {
   "cell_type": "markdown",
   "metadata": {
    "deletable": true,
    "editable": true
   },
   "source": [
    "## Save Parameters\n",
    "Save `seq_length` and `save_dir` for generating a new TV script."
   ]
  },
  {
   "cell_type": "code",
   "execution_count": 28,
   "metadata": {
    "collapsed": false,
    "deletable": true,
    "editable": true
   },
   "outputs": [],
   "source": [
    "\"\"\"\n",
    "DON'T MODIFY ANYTHING IN THIS CELL\n",
    "\"\"\"\n",
    "# Save parameters for checkpoint\n",
    "helper.save_params((seq_length, save_dir))"
   ]
  },
  {
   "cell_type": "markdown",
   "metadata": {
    "deletable": true,
    "editable": true
   },
   "source": [
    "# Checkpoint"
   ]
  },
  {
   "cell_type": "code",
   "execution_count": 29,
   "metadata": {
    "collapsed": false,
    "deletable": true,
    "editable": true
   },
   "outputs": [],
   "source": [
    "\"\"\"\n",
    "DON'T MODIFY ANYTHING IN THIS CELL\n",
    "\"\"\"\n",
    "import tensorflow as tf\n",
    "import numpy as np\n",
    "import helper\n",
    "import problem_unittests as tests\n",
    "\n",
    "_, vocab_to_int, int_to_vocab, token_dict = helper.load_preprocess()\n",
    "seq_length, load_dir = helper.load_params()"
   ]
  },
  {
   "cell_type": "markdown",
   "metadata": {
    "deletable": true,
    "editable": true
   },
   "source": [
    "## Implement Generate Functions\n",
    "### Get Tensors\n",
    "Get tensors from `loaded_graph` using the function [`get_tensor_by_name()`](https://www.tensorflow.org/api_docs/python/tf/Graph#get_tensor_by_name).  Get the tensors using the following names:\n",
    "- \"input:0\"\n",
    "- \"initial_state:0\"\n",
    "- \"final_state:0\"\n",
    "- \"probs:0\"\n",
    "\n",
    "Return the tensors in the following tuple `(InputTensor, InitialStateTensor, FinalStateTensor, ProbsTensor)` "
   ]
  },
  {
   "cell_type": "code",
   "execution_count": 30,
   "metadata": {
    "collapsed": false,
    "deletable": true,
    "editable": true
   },
   "outputs": [
    {
     "name": "stdout",
     "output_type": "stream",
     "text": [
      "Tests Passed\n"
     ]
    }
   ],
   "source": [
    "def get_tensors(loaded_graph):\n",
    "    \"\"\"\n",
    "    Get input, initial state, final state, and probabilities tensor from <loaded_graph>\n",
    "    :param loaded_graph: TensorFlow graph loaded from file\n",
    "    :return: Tuple (InputTensor, InitialStateTensor, FinalStateTensor, ProbsTensor)\n",
    "    \"\"\"\n",
    "    # TODO: Implement Function\n",
    "    inputs = loaded_graph.get_tensor_by_name(\"input:0\")\n",
    "    initial_state = loaded_graph.get_tensor_by_name(\"initial_state:0\")\n",
    "    final_state = loaded_graph.get_tensor_by_name(\"final_state:0\")\n",
    "    probs = loaded_graph.get_tensor_by_name(\"probs:0\")\n",
    "    return inputs, initial_state, final_state, probs\n",
    "\n",
    "\n",
    "\"\"\"\n",
    "DON'T MODIFY ANYTHING IN THIS CELL THAT IS BELOW THIS LINE\n",
    "\"\"\"\n",
    "tests.test_get_tensors(get_tensors)"
   ]
  },
  {
   "cell_type": "markdown",
   "metadata": {
    "deletable": true,
    "editable": true
   },
   "source": [
    "### Choose Word\n",
    "Implement the `pick_word()` function to select the next word using `probabilities`."
   ]
  },
  {
   "cell_type": "code",
   "execution_count": 31,
   "metadata": {
    "collapsed": false,
    "deletable": true,
    "editable": true
   },
   "outputs": [
    {
     "name": "stdout",
     "output_type": "stream",
     "text": [
      "Tests Passed\n"
     ]
    }
   ],
   "source": [
    "def pick_word(probabilities, int_to_vocab):\n",
    "    \"\"\"\n",
    "    Pick the next word in the generated text\n",
    "    :param probabilities: Probabilites of the next word\n",
    "    :param int_to_vocab: Dictionary of word ids as the keys and words as the values\n",
    "    :return: String of the predicted word\n",
    "    \"\"\"\n",
    "    # TODO: Implement Function\n",
    "    i = np.random.choice(np.arange(len(int_to_vocab)), p=probabilities)\n",
    "    return int_to_vocab[i]\n",
    "\n",
    "\n",
    "\"\"\"\n",
    "DON'T MODIFY ANYTHING IN THIS CELL THAT IS BELOW THIS LINE\n",
    "\"\"\"\n",
    "tests.test_pick_word(pick_word)"
   ]
  },
  {
   "cell_type": "markdown",
   "metadata": {
    "deletable": true,
    "editable": true
   },
   "source": [
    "## Generate TV Script\n",
    "This will generate the TV script for you.  Set `gen_length` to the length of TV script you want to generate."
   ]
  },
  {
   "cell_type": "code",
   "execution_count": 32,
   "metadata": {
    "collapsed": false,
    "deletable": true,
    "editable": true
   },
   "outputs": [
    {
     "name": "stdout",
     "output_type": "stream",
     "text": [
      "INFO:tensorflow:Restoring parameters from ./save\n",
      "moe_szyslak: and are you man enough to throw a punch, should the opportunity arise?\n",
      "homer_simpson: how 'bout some kind of the crazy getup, it was me, and even checking it, and low-blow boxing for the guys. i can seen you guys.\n",
      "carl_carlson: hey, you!\n",
      "homer_simpson: we all around with a new general ambrose burnside.\n",
      "barney_gumble: and i'm not too much about all.\n",
      "homer_simpson:(laughs) now i want to french.\n",
      "moe_szyslak:(considering) well, that's halfway there.\n",
      "snake_jailbird: yes, hello. thanks for the\" saint elmo's and you've been not drunk.\n",
      "moe_szyslak: plastic surgery, huh?\n",
      "marge_simpson:(but a little wave) actually put my keys?\n",
      "homer_simpson: oh, the heat's been on since them bush girls were in here.\n",
      "moe_szyslak: don't worry, we're still on the floor.\n",
      "c. _montgomery_burns:(shaken) why, that, no. i went to you...\n",
      "moe_szyslak: yeah, i know, homer? it's a great guy who drink you again\n"
     ]
    }
   ],
   "source": [
    "gen_length = 200\n",
    "# homer_simpson, moe_szyslak, or Barney_Gumble\n",
    "prime_word = 'moe_szyslak'\n",
    "\n",
    "\"\"\"\n",
    "DON'T MODIFY ANYTHING IN THIS CELL THAT IS BELOW THIS LINE\n",
    "\"\"\"\n",
    "loaded_graph = tf.Graph()\n",
    "with tf.Session(graph=loaded_graph) as sess:\n",
    "    # Load saved model\n",
    "    loader = tf.train.import_meta_graph(load_dir + '.meta')\n",
    "    loader.restore(sess, load_dir)\n",
    "\n",
    "    # Get Tensors from loaded model\n",
    "    input_text, initial_state, final_state, probs = get_tensors(loaded_graph)\n",
    "\n",
    "    # Sentences generation setup\n",
    "    gen_sentences = [prime_word + ':']\n",
    "    prev_state = sess.run(initial_state, {input_text: np.array([[1]])})\n",
    "\n",
    "    # Generate sentences\n",
    "    for n in range(gen_length):\n",
    "        # Dynamic Input\n",
    "        dyn_input = [[vocab_to_int[word] for word in gen_sentences[-seq_length:]]]\n",
    "        dyn_seq_length = len(dyn_input[0])\n",
    "\n",
    "        # Get Prediction\n",
    "        probabilities, prev_state = sess.run(\n",
    "            [probs, final_state],\n",
    "            {input_text: dyn_input, initial_state: prev_state})\n",
    "        \n",
    "        pred_word = pick_word(probabilities[dyn_seq_length-1], int_to_vocab)\n",
    "\n",
    "        gen_sentences.append(pred_word)\n",
    "    \n",
    "    # Remove tokens\n",
    "    tv_script = ' '.join(gen_sentences)\n",
    "    for key, token in token_dict.items():\n",
    "        ending = ' ' if key in ['\\n', '(', '\"'] else ''\n",
    "        tv_script = tv_script.replace(' ' + token.lower(), key)\n",
    "    tv_script = tv_script.replace('\\n ', '\\n')\n",
    "    tv_script = tv_script.replace('( ', '(')\n",
    "        \n",
    "    print(tv_script)"
   ]
  },
  {
   "cell_type": "markdown",
   "metadata": {
    "deletable": true,
    "editable": true
   },
   "source": [
    "# The TV Script is Nonsensical\n",
    "It's ok if the TV script doesn't make any sense.  We trained on less than a megabyte of text.  In order to get good results, you'll have to use a smaller vocabulary or get more data.  Luckly there's more data!  As we mentioned in the begging of this project, this is a subset of [another dataset](https://www.kaggle.com/wcukierski/the-simpsons-by-the-data).  We didn't have you train on all the data, because that would take too long.  However, you are free to train your neural network on all the data.  After you complete the project, of course.\n",
    "# Submitting This Project\n",
    "When submitting this project, make sure to run all the cells before saving the notebook. Save the notebook file as \"dlnd_tv_script_generation.ipynb\" and save it as a HTML file under \"File\" -> \"Download as\". Include the \"helper.py\" and \"problem_unittests.py\" files in your submission."
   ]
  }
 ],
 "metadata": {
  "kernelspec": {
   "display_name": "Python 3",
   "language": "python",
   "name": "python3"
  },
  "language_info": {
   "codemirror_mode": {
    "name": "ipython",
    "version": 3
   },
   "file_extension": ".py",
   "mimetype": "text/x-python",
   "name": "python",
   "nbconvert_exporter": "python",
   "pygments_lexer": "ipython3",
   "version": "3.5.2"
  },
  "widgets": {
   "state": {},
   "version": "1.1.2"
  }
 },
 "nbformat": 4,
 "nbformat_minor": 0
}
